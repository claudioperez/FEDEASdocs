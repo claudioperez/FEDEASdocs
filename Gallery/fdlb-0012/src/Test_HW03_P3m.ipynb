{
 "cells": [
  {
   "cell_type": "markdown",
   "metadata": {},
   "source": [
    "# HW-3 Problem 3\n",
    "<img src=\"doc\\img\\fig1.png\" width=\"80%\">\n",
    "\n",
    "The purpose of the structural model in Fig. $3(a)$ is the study of the risk of a mid-rise building forming a soft first-story collapse mechanism under the combined action of a total gravity load $P_{v}$ and a lateral load. The latter is assumed to be linearly distributed over the height of the building with a resultant $P_{h}$ located at a distance $H$ above the first floor. The building has a single bay of length $L$ and the height of the first story is 12 feet. The ratio of $(H-h)/ L$ is $4 .$ The first story columns consist of $\\mathrm{W} 14 \\mathrm{x} 426$ steel sections with Grade 50 Steel and are pinned at the foundation. The first story columns can be assumed restrained against rotation at the top, since they frame into a girder that can be assumed to be infinitely rigid in flexure. The girder and columns can be assumed to be inextensible."
   ]
  },
  {
   "cell_type": "markdown",
   "metadata": {},
   "source": [
    "## 3.1 - AISC H2\n",
    "\n",
    "Verify the maximum lateral force $P_{h}$ that the first story can resist for an ultimate load factor $\\lambda=2.0$ under the assumption that the gravity load $P_{v}$ is negligible relative to the lateral load $P_{h}$ using the diamond shaped plastic limit surface in Fig. 4.6 of the course reader (AISC Equation H2-1)."
   ]
  },
  {
   "cell_type": "code",
   "execution_count": 3,
   "metadata": {},
   "outputs": [
    {
     "name": "stdout",
     "output_type": "stream",
     "text": [
      "\n",
      "Optimal solution found.\n",
      "\n",
      "\n",
      "lamc =\n",
      "\n",
      "    2.0000\n",
      "\n",
      "\n"
     ]
    },
    {
     "data": {
      "image/png": "[encoded data removed]",
      "text/plain": [
       "<IPython.core.display.Image object>"
      ]
     },
     "metadata": {},
     "output_type": "display_data"
    }
   ],
   "source": [
    "CleanStart\n",
    "LimEqn = 'AISC-H2';\n",
    "beta  = 0;\n",
    "Ph = 217.67;\n",
    "[lamc,Qc] = hw3p3(beta,LimEqn,Ph,true);\n",
    "lamc"
   ]
  },
  {
   "cell_type": "markdown",
   "metadata": {},
   "source": [
    "## 3.2 - AISC H1\n",
    "\n",
    "How much can the maximum lateral force $P_{h}$ be increased by using the $N$ -M plastic limit surface of the AISC specification in equation 4.7 of the course reader?"
   ]
  },
  {
   "cell_type": "code",
   "execution_count": 4,
   "metadata": {},
   "outputs": [
    {
     "name": "stdout",
     "output_type": "stream",
     "text": [
      "\n",
      "Optimal solution found.\n",
      "\n",
      "\n",
      "lamc =\n",
      "\n",
      "    2.0000\n",
      "\n",
      "\n"
     ]
    }
   ],
   "source": [
    "CleanStart\n",
    "LimEqn = 'AISC-H1';\n",
    "beta  = 0;\n",
    "Ph = 236.64;\n",
    "[lamc,Qc] = hw3p3(beta,LimEqn,Ph);\n",
    "lamc"
   ]
  },
  {
   "cell_type": "markdown",
   "metadata": {},
   "source": [
    "## 3.3 - Vertical Load\n",
    "\n",
    "Repeat the preceding questions for the case that the gravity load $P_{v}$ is equal to $50 \\%$ of the lateral load $P_{h}$ under the assumption that it remains constant during the application of the lateral load and is, therefore, assigned an ultimate load factor of 1.2."
   ]
  },
  {
   "cell_type": "markdown",
   "metadata": {},
   "source": [
    "### 3.3.1"
   ]
  },
  {
   "cell_type": "code",
   "execution_count": 5,
   "metadata": {},
   "outputs": [
    {
     "name": "stdout",
     "output_type": "stream",
     "text": [
      "\n",
      "Optimal solution found.\n",
      "\n",
      "\n",
      "lamc =\n",
      "\n",
      "    2.0000\n",
      "\n",
      "\n"
     ]
    }
   ],
   "source": [
    "CleanStart\n",
    "LimEqn = 'AISC-H2';\n",
    "beta  = 1/2;\n",
    "Ph = 217.67;\n",
    "[lamc,Qc] = hw3p3(beta,LimEqn,Ph);\n",
    "lamc"
   ]
  }
 ],
 "metadata": {
  "kernelspec": {
   "display_name": "Matlab",
   "language": "matlab",
   "name": "matlab"
  },
  "language_info": {
   "codemirror_mode": "octave",
   "file_extension": ".m",
   "help_links": [
    {
     "text": "MetaKernel Magics",
     "url": "https://metakernel.readthedocs.io/en/latest/source/README.html"
    }
   ],
   "mimetype": "text/x-octave",
   "name": "matlab",
   "version": "0.16.7"
  }
 },
 "nbformat": 4,
 "nbformat_minor": 4
}
